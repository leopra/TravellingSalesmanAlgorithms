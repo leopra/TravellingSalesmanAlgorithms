{
 "cells": [
  {
   "cell_type": "markdown",
   "metadata": {},
   "source": [
    "# Relazione secondo progetto algoritmi avanzati\n",
    "\n",
    "Francesca Meneghello 1227939 <br />\n",
    "Leonardo Pratesi 1237582"
   ]
  },
  {
   "cell_type": "markdown",
   "metadata": {},
   "source": [
    "## 1. Introduzione\n",
    "\n",
    "scelta di utilizzare matrice per rappresentazione grafi"
   ]
  },
  {
   "cell_type": "markdown",
   "metadata": {},
   "source": [
    "## 2. Algoritmo esatto di Held e Karp"
   ]
  },
  {
   "cell_type": "markdown",
   "metadata": {},
   "source": [
    "## 3. Euristiche costruttive"
   ]
  },
  {
   "cell_type": "markdown",
   "metadata": {},
   "source": [
    "### 3.1 Closest Insertion"
   ]
  },
  {
   "cell_type": "markdown",
   "metadata": {},
   "source": [
    "### 3.2 Farthest Insertion"
   ]
  },
  {
   "cell_type": "code",
   "execution_count": 7,
   "metadata": {},
   "outputs": [
    {
     "name": "stdout",
     "output_type": "stream",
     "text": [
      "{'NAME': 'burma14', 'TYPE': 'TSP', 'COMMENT': '14-Staedte in Burma (Zaw Win)', 'DIMENSION': '14', 'EDGE_WEIGHT_TYPE': 'GEO', 'EDGE_WEIGHT_FORMAT': 'FUNCTION', 'DISPLAY_DATA_TYPE': 'COORD_DISPLAY'}\n",
      "11 9 10 1 2 14 3 4 5 6 12 7 13 8 \n",
      "3323\n"
     ]
    }
   ],
   "source": [
    "import utilities as ut\n",
    "import FarthestInsertion as fr #funzioni di supporto\n",
    "\n",
    "def farthest(file_name):\n",
    "    ############# LETTURA FILE ###############\n",
    "    matrix=ut.parseFile(file_name)\n",
    "    n=len(matrix)\n",
    "    ############ VARIABILI ############\n",
    "    C=[] #insieme di archi risultanti\n",
    "    MAX= 9223372036854775807\n",
    "    V=[] #insieme di tutti i nodi iniziali che vengono estratti man mano\n",
    "    for i in range(0, n):\n",
    "        V.append(i)\n",
    "    ############# INIZIALIZZAZIONE ##################\n",
    "    minimo= MAX\n",
    "    j=-1\n",
    "    for i in range(1, n):\n",
    "        if matrix[0,i]<minimo:\n",
    "            minimo=matrix[0,i]\n",
    "            j=i\n",
    "    #inserisco i primi due nodi nel circuito parziale\n",
    "    C.append(0), C.append(j)\n",
    "    #elimino i due nodi inseriti dall'insieme di tutti i vertici\n",
    "    V.remove(0), V.remove(j)\n",
    "\n",
    "    k=fr.selezione(V,C,matrix) #selezione del primo nodo k da inserire nel circuito parziale\n",
    "    while k!=-1: #se ritorna -1 non ho più elementi da selezionare\n",
    "        ########### INSERIMENTO #####################\n",
    "        #arco {i, j} in C che minimizza matrix[i,k] + matrix[k,j] - matrix[i, j]\n",
    "        minimo=MAX\n",
    "        pos=-1 #dove inserire il nodo k dopo aver trovato la soluzione\n",
    "        for i in range(0, len(C)): #controllo le coppie di archi all'interno di C\n",
    "                if i+1< len(C):\n",
    "                    val=matrix[C[i],k] + matrix[k,C[i+1]] - matrix[C[i], C[i+1]]\n",
    "                    j=i+1\n",
    "                else:\n",
    "                    val=matrix[C[i],k] + matrix[k,C[0]] - matrix[C[i], C[0]]\n",
    "                    j=0\n",
    "                if val<minimo: \n",
    "                    minimo=val\n",
    "                    pos=j\n",
    "        V.remove(k) #elimino l'elemento K dall'insieme dei nodi ancora da estrarre\n",
    "        C.insert(pos, k) #inserisco K tra i e j nel circuito parziale C\n",
    "        k=fr.selezione(V,C,matrix)\n",
    "        \n",
    "    totale=fr.calcTot(C, matrix)\n",
    "    return C, totale #return ciclo e soluzione finale\n",
    "\n",
    "ciclo, tot= farthest('burma14.tsp')\n",
    "fr.printCycle(ciclo)\n",
    "print(tot)"
   ]
  },
  {
   "cell_type": "code",
   "execution_count": null,
   "metadata": {},
   "outputs": [],
   "source": []
  },
  {
   "cell_type": "markdown",
   "metadata": {},
   "source": [
    "## 4. Algoritmo 2-approssimato"
   ]
  },
  {
   "cell_type": "markdown",
   "metadata": {},
   "source": [
    "## 5. Tabella"
   ]
  },
  {
   "cell_type": "markdown",
   "metadata": {},
   "source": [
    "<img src=\"Tabella.png\" width=850 height=800 />"
   ]
  },
  {
   "cell_type": "markdown",
   "metadata": {},
   "source": [
    "## 6. Conclusioni"
   ]
  },
  {
   "cell_type": "code",
   "execution_count": null,
   "metadata": {},
   "outputs": [],
   "source": []
  }
 ],
 "metadata": {
  "kernelspec": {
   "display_name": "Python 3",
   "language": "python",
   "name": "python3"
  },
  "language_info": {
   "codemirror_mode": {
    "name": "ipython",
    "version": 3
   },
   "file_extension": ".py",
   "mimetype": "text/x-python",
   "name": "python",
   "nbconvert_exporter": "python",
   "pygments_lexer": "ipython3",
   "version": "3.7.5"
  }
 },
 "nbformat": 4,
 "nbformat_minor": 2
}
