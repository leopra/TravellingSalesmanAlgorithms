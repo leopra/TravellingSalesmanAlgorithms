{
 "cells": [
  {
   "cell_type": "markdown",
   "metadata": {},
   "source": [
    "# Relazione secondo progetto algoritmi avanzati\n",
    "\n",
    "Francesca Meneghello 1227939 <br />\n",
    "Leonardo Pratesi 1237582"
   ]
  },
  {
   "cell_type": "markdown",
   "metadata": {},
   "source": [
    "## 1. Introduzione\n",
    "\n",
    "scelta di utilizzare matrice per rappresentazione grafi"
   ]
  },
  {
   "cell_type": "markdown",
   "metadata": {},
   "source": [
    "## 2. Algoritmo esatto di Held e Karp"
   ]
  },
  {
   "cell_type": "markdown",
   "metadata": {},
   "source": [
    "## 3. Euristiche costruttive\n",
    "### 3.1 Closest Insertion\n",
    "### 3.2 Farthest Insertion"
   ]
  },
  {
   "cell_type": "markdown",
   "metadata": {},
   "source": [
    "## 4. Algoritmo 2-approssimato"
   ]
  },
  {
   "cell_type": "markdown",
   "metadata": {},
   "source": [
    "## 5. Tabella"
   ]
  },
  {
   "cell_type": "markdown",
   "metadata": {},
   "source": [
    "| Tempi e risultati |            |                |                |                |                |\n",
    "|--------------|-----------------|----------------|----------------|----------------|----------------|\n",
    "|              |                 | Held e Karp    |                | Header 3       |        <       |\n",
    "|              | Soluzione       | Tempo          | Errore         | Subheader 3.1  | Subheader 3.2  |\n",
    "|==============|-----------------|----------------|----------------|----------------|----------------|\n",
    "| burma14.tsp  | 3row, 3col span |       <        |        <       | Colspan only   |        <       |\n",
    "| ulysses16.tsp|       ^         |       <        |        <       | Rowspan only   | Cell           |\n",
    "| ulysses22.tsp|       ^         |       <        |        <       |       ^        | Cell           |\n",
    "| eil51.tsp    |  Row            |  Each cell     |:   Centered   :| Right-aligned :|: Left-aligned  |\n",
    "|.            .|. with multiple .|. has room for .|.  multi-line  .|.   multi-line .|. multi-line   .|\n",
    "|.            .|. lines.        .|. more text.   .|.     text.    .|.        text. .|. text.        .|"
   ]
  },
  {
   "cell_type": "markdown",
   "metadata": {},
   "source": [
    "## 6. Conclusioni"
   ]
  },
  {
   "cell_type": "code",
   "execution_count": null,
   "metadata": {},
   "outputs": [],
   "source": []
  }
 ],
 "metadata": {
  "kernelspec": {
   "display_name": "Python 3",
   "language": "python",
   "name": "python3"
  },
  "language_info": {
   "codemirror_mode": {
    "name": "ipython",
    "version": 3
   },
   "file_extension": ".py",
   "mimetype": "text/x-python",
   "name": "python",
   "nbconvert_exporter": "python",
   "pygments_lexer": "ipython3",
   "version": "3.7.5"
  }
 },
 "nbformat": 4,
 "nbformat_minor": 2
}
